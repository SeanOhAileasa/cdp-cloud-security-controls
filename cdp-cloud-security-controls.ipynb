{
 "cells": [
  {
   "cell_type": "markdown",
   "id": "d4ee9e4b",
   "metadata": {},
   "source": [
    "***\n",
    "< [Home](https://github.com/SeanOhAileasa) | [README](https://github.com/SeanOhAileasa/cdp-cloud-security-controls/blob/main/README.md) >\n",
    "\n",
    "## CompTIA Cloud+ - Course Material 2022\n",
    "###### Topic: ``Cloud Security Controls``\n",
    "***"
   ]
  },
  {
   "cell_type": "markdown",
   "id": "e7228f57",
   "metadata": {},
   "source": [
    "<a id=\"top\"></a>\n",
    "***\n",
    "## Table of Contents\n",
    "***"
   ]
  },
  {
   "cell_type": "markdown",
   "id": "c2bb5e7b",
   "metadata": {},
   "source": [
    "### [Cloud Security Controls](#aa) <br/><br/>\n",
    "<hr width=50%;>"
   ]
  },
  {
   "cell_type": "markdown",
   "id": "55d3748e",
   "metadata": {},
   "source": [
    "### [Cloud Security Policies](#A) <br/><br/>\n",
    "<hr width=50%;>"
   ]
  },
  {
   "cell_type": "markdown",
   "id": "0c0f8821",
   "metadata": {},
   "source": [
    "### [Cloud User Permissions](#B) <br/><br/>\n",
    "<hr width=50%;>"
   ]
  },
  {
   "cell_type": "markdown",
   "id": "f94323d1",
   "metadata": {},
   "source": [
    "### [Virus Detection and Response](#C) <br/><br/>\n",
    "<hr width=50%;>"
   ]
  },
  {
   "cell_type": "markdown",
   "id": "57e5ccea",
   "metadata": {},
   "source": [
    "### [Host-based IDS and Host-based IPS](#D) <br/><br/>\n",
    "<hr width=50%;>"
   ]
  },
  {
   "cell_type": "markdown",
   "id": "3c5931fe",
   "metadata": {},
   "source": [
    "### [Hardened Baselines](#E) <br/><br/>\n",
    "<hr width=50%;>"
   ]
  },
  {
   "cell_type": "markdown",
   "id": "749a6614",
   "metadata": {},
   "source": [
    "### [File Integrity and Event Monitoring](#F) <br/><br/>\n",
    "<hr width=50%;>"
   ]
  },
  {
   "cell_type": "markdown",
   "id": "329b2d0f",
   "metadata": {},
   "source": [
    "### [Configuration Management](#G) <br/><br/>\n",
    "<hr width=50%;>"
   ]
  },
  {
   "cell_type": "markdown",
   "id": "c4499839",
   "metadata": {},
   "source": [
    "### [Software Release Cycle](#H) <br/><br/>\n",
    "<hr width=50%;>"
   ]
  },
  {
   "cell_type": "markdown",
   "id": "a2492286",
   "metadata": {},
   "source": [
    "### [Endpoint Security](#I) <br/><br/>\n",
    "<hr width=50%;>"
   ]
  },
  {
   "cell_type": "markdown",
   "id": "92afb22c",
   "metadata": {},
   "source": [
    "### [System Security Controls](#J) <br/><br/>\n",
    "<hr width=50%;>"
   ]
  },
  {
   "cell_type": "markdown",
   "id": "40910026",
   "metadata": {},
   "source": [
    "### [Course Summary](#K) <br/><br/>\n",
    "<hr width=50%;>"
   ]
  },
  {
   "cell_type": "markdown",
   "id": "bf2b95e2",
   "metadata": {},
   "source": [
    "***\n",
    "## END"
   ]
  },
  {
   "cell_type": "markdown",
   "id": "34aa6eb5",
   "metadata": {},
   "source": [
    "< [Table of Contents](#top) | [References](#references) >\n",
    "<a id=\"aa\"></a>\n",
    "***\n",
    "### Cloud Security Controls\n",
    "***"
   ]
  },
  {
   "cell_type": "markdown",
   "id": "f9941f1a",
   "metadata": {},
   "source": []
  },
  {
   "cell_type": "markdown",
   "id": "b630ec51",
   "metadata": {},
   "source": [
    "< [Table of Contents](#top) | [References](#references) >\n",
    "<a id=\"A\"></a>\n",
    "***\n",
    "### Cloud Security Policies\n",
    "*** "
   ]
  },
  {
   "cell_type": "markdown",
   "id": "a8d1e154",
   "metadata": {},
   "source": []
  },
  {
   "cell_type": "markdown",
   "id": "15904563",
   "metadata": {},
   "source": [
    "< [Table of Contents](#top) | [References](#references) >\n",
    "<a id=\"B\"></a>\n",
    "***\n",
    "### Cloud User Permissions\n",
    "*** "
   ]
  },
  {
   "cell_type": "markdown",
   "id": "801eb7c3",
   "metadata": {},
   "source": []
  },
  {
   "cell_type": "markdown",
   "id": "1b137f65",
   "metadata": {},
   "source": [
    "< [Table of Contents](#top) | [References](#references) >\n",
    "<a id=\"C\"></a>\n",
    "***\n",
    "### Virus Detection and Response\n",
    "*** "
   ]
  },
  {
   "cell_type": "markdown",
   "id": "f9a40493",
   "metadata": {},
   "source": []
  },
  {
   "cell_type": "markdown",
   "id": "5a43a2d6",
   "metadata": {},
   "source": [
    "< [Table of Contents](#top) | [References](#references) >\n",
    "<a id=\"D\"></a>\n",
    "***\n",
    "### Host-based IDS and Host-based IPS\n",
    "*** "
   ]
  },
  {
   "cell_type": "markdown",
   "id": "01091cf7",
   "metadata": {},
   "source": []
  },
  {
   "cell_type": "markdown",
   "id": "c241f075",
   "metadata": {},
   "source": [
    "< [Table of Contents](#top) | [References](#references) >\n",
    "<a id=\"E\"></a>\n",
    "***\n",
    "### Hardened Baselines\n",
    "*** "
   ]
  },
  {
   "cell_type": "markdown",
   "id": "df0ba53f",
   "metadata": {},
   "source": []
  },
  {
   "cell_type": "markdown",
   "id": "f076389c",
   "metadata": {},
   "source": [
    "< [Table of Contents](#top) | [References](#references) >\n",
    "<a id=\"F\"></a>\n",
    "***\n",
    "### File Integrity and Event Monitoring\n",
    "*** "
   ]
  },
  {
   "cell_type": "markdown",
   "id": "32abad77",
   "metadata": {},
   "source": []
  },
  {
   "cell_type": "markdown",
   "id": "88b08a2d",
   "metadata": {},
   "source": [
    "< [Table of Contents](#top) | [References](#references) >\n",
    "<a id=\"G\"></a>\n",
    "***\n",
    "### Configuration Management\n",
    "*** "
   ]
  },
  {
   "cell_type": "markdown",
   "id": "4c3014cb",
   "metadata": {},
   "source": []
  },
  {
   "cell_type": "markdown",
   "id": "2ea5290f",
   "metadata": {},
   "source": [
    "< [Table of Contents](#top) | [References](#references) >\n",
    "<a id=\"H\"></a>\n",
    "***\n",
    "### Software Release Cycle\n",
    "*** "
   ]
  },
  {
   "cell_type": "markdown",
   "id": "97d5efab",
   "metadata": {},
   "source": []
  },
  {
   "cell_type": "markdown",
   "id": "43078a0b",
   "metadata": {},
   "source": [
    "< [Table of Contents](#top) | [References](#references) >\n",
    "<a id=\"I\"></a>\n",
    "***\n",
    "### Endpoint Security\n",
    "*** "
   ]
  },
  {
   "cell_type": "markdown",
   "id": "99937c27",
   "metadata": {},
   "source": []
  },
  {
   "cell_type": "markdown",
   "id": "e04a5273",
   "metadata": {},
   "source": [
    "< [Table of Contents](#top) | [References](#references) >\n",
    "<a id=\"J\"></a>\n",
    "***\n",
    "### System Security Controls\n",
    "*** "
   ]
  },
  {
   "cell_type": "markdown",
   "id": "765f581f",
   "metadata": {},
   "source": []
  },
  {
   "cell_type": "markdown",
   "id": "173e78b5",
   "metadata": {},
   "source": [
    "< [Table of Contents](#top) | [References](#references) >\n",
    "<a id=\"K\"></a>\n",
    "***\n",
    "### Course Summary\n",
    "*** "
   ]
  },
  {
   "cell_type": "markdown",
   "id": "9d476a98",
   "metadata": {},
   "source": []
  },
  {
   "cell_type": "markdown",
   "id": "2cc20932",
   "metadata": {},
   "source": [
    "***\n",
    "## END"
   ]
  },
  {
   "cell_type": "markdown",
   "id": "e0e42d51",
   "metadata": {},
   "source": [
    "< [Table of Contents](#top) >\n",
    "<a id=\"references\"></a>\n",
    "***\n",
    "## References\n",
    "***"
   ]
  },
  {
   "cell_type": "markdown",
   "id": "757bf6de",
   "metadata": {},
   "source": [
    "&nbsp;&nbsp;&nbsp;&nbsp;&nbsp;&nbsp;&nbsp;&nbsp;&nbsp;skillsoft, \"Cloud Security Controls,\" [skillsoft.com](https://web.archive.org/web/20220403100053/https://www.skillsoft.com/), n.d.."
   ]
  },
  {
   "cell_type": "markdown",
   "id": "b33c372a",
   "metadata": {},
   "source": [
    "***\n",
    "## END"
   ]
  },
  {
   "cell_type": "markdown",
   "id": "e5961b4d",
   "metadata": {},
   "source": [
    "< [Table of Contents](#top) | [References](#references) >\n",
    "<a id=\"appendix\"></a>\n",
    "***\n",
    "## Appendix\n",
    "***"
   ]
  },
  {
   "cell_type": "markdown",
   "id": "00d82a82",
   "metadata": {},
   "source": [
    "***\n",
    "## END"
   ]
  },
  {
   "cell_type": "code",
   "execution_count": 1,
   "id": "706756a2",
   "metadata": {},
   "outputs": [
    {
     "name": "stderr",
     "output_type": "stream",
     "text": [
      "C:\\Users\\SeanOhAileasa\\AppData\\Local\\Temp\\ipykernel_16848\\1322614208.py:1: DeprecationWarning: Importing display from IPython.core.display is deprecated since IPython 7.14, please import from IPython display\n",
      "  from IPython.core.display import display,HTML\n"
     ]
    },
    {
     "data": {
      "text/html": [
       "<style>.container { width:100% !important; }</style>"
      ],
      "text/plain": [
       "<IPython.core.display.HTML object>"
      ]
     },
     "metadata": {},
     "output_type": "display_data"
    }
   ],
   "source": [
    "from IPython.core.display import display,HTML\n",
    "display(HTML(\"<style>.container { width:100% !important; }</style>\"))"
   ]
  },
  {
   "cell_type": "markdown",
   "id": "899c1783",
   "metadata": {},
   "source": [
    "# END JUPYTER NOTEBOOK"
   ]
  }
 ],
 "metadata": {
  "kernelspec": {
   "display_name": "Python 3 (ipykernel)",
   "language": "python",
   "name": "python3"
  },
  "language_info": {
   "codemirror_mode": {
    "name": "ipython",
    "version": 3
   },
   "file_extension": ".py",
   "mimetype": "text/x-python",
   "name": "python",
   "nbconvert_exporter": "python",
   "pygments_lexer": "ipython3",
   "version": "3.9.12"
  }
 },
 "nbformat": 4,
 "nbformat_minor": 5
}
